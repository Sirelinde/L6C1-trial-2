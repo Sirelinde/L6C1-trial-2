{
 "cells": [
  {
   "cell_type": "code",
   "execution_count": 146,
   "id": "97532ca3",
   "metadata": {},
   "outputs": [],
   "source": [
    "import pandas as pd\n",
    "from sklearn.tree import DecisionTreeClassifier\n",
    "from sklearn.model_selection import train_test_split\n",
    "from sklearn import metrics"
   ]
  },
  {
   "cell_type": "code",
   "execution_count": 147,
   "id": "ab54dab2",
   "metadata": {},
   "outputs": [],
   "source": [
    "showdrink = pd.read_csv(\"drink.csv\")"
   ]
  },
  {
   "cell_type": "code",
   "execution_count": 148,
   "id": "ba8cfb71",
   "metadata": {},
   "outputs": [
    {
     "data": {
      "text/html": [
       "<div>\n",
       "<style scoped>\n",
       "    .dataframe tbody tr th:only-of-type {\n",
       "        vertical-align: middle;\n",
       "    }\n",
       "\n",
       "    .dataframe tbody tr th {\n",
       "        vertical-align: top;\n",
       "    }\n",
       "\n",
       "    .dataframe thead th {\n",
       "        text-align: right;\n",
       "    }\n",
       "</style>\n",
       "<table border=\"1\" class=\"dataframe\">\n",
       "  <thead>\n",
       "    <tr style=\"text-align: right;\">\n",
       "      <th></th>\n",
       "      <th>age</th>\n",
       "      <th>gender</th>\n",
       "      <th>drink</th>\n",
       "    </tr>\n",
       "  </thead>\n",
       "  <tbody>\n",
       "    <tr>\n",
       "      <th>0</th>\n",
       "      <td>21</td>\n",
       "      <td>1</td>\n",
       "      <td>coke</td>\n",
       "    </tr>\n",
       "    <tr>\n",
       "      <th>1</th>\n",
       "      <td>30</td>\n",
       "      <td>1</td>\n",
       "      <td>coffee</td>\n",
       "    </tr>\n",
       "    <tr>\n",
       "      <th>2</th>\n",
       "      <td>35</td>\n",
       "      <td>0</td>\n",
       "      <td>tea</td>\n",
       "    </tr>\n",
       "    <tr>\n",
       "      <th>3</th>\n",
       "      <td>55</td>\n",
       "      <td>0</td>\n",
       "      <td>water</td>\n",
       "    </tr>\n",
       "    <tr>\n",
       "      <th>4</th>\n",
       "      <td>19</td>\n",
       "      <td>0</td>\n",
       "      <td>orange</td>\n",
       "    </tr>\n",
       "    <tr>\n",
       "      <th>5</th>\n",
       "      <td>60</td>\n",
       "      <td>1</td>\n",
       "      <td>tea</td>\n",
       "    </tr>\n",
       "    <tr>\n",
       "      <th>6</th>\n",
       "      <td>39</td>\n",
       "      <td>0</td>\n",
       "      <td>water</td>\n",
       "    </tr>\n",
       "    <tr>\n",
       "      <th>7</th>\n",
       "      <td>25</td>\n",
       "      <td>1</td>\n",
       "      <td>coke</td>\n",
       "    </tr>\n",
       "    <tr>\n",
       "      <th>8</th>\n",
       "      <td>44</td>\n",
       "      <td>1</td>\n",
       "      <td>coffee</td>\n",
       "    </tr>\n",
       "    <tr>\n",
       "      <th>9</th>\n",
       "      <td>47</td>\n",
       "      <td>0</td>\n",
       "      <td>water</td>\n",
       "    </tr>\n",
       "    <tr>\n",
       "      <th>10</th>\n",
       "      <td>33</td>\n",
       "      <td>0</td>\n",
       "      <td>tea</td>\n",
       "    </tr>\n",
       "    <tr>\n",
       "      <th>11</th>\n",
       "      <td>65</td>\n",
       "      <td>1</td>\n",
       "      <td>tea</td>\n",
       "    </tr>\n",
       "  </tbody>\n",
       "</table>\n",
       "</div>"
      ],
      "text/plain": [
       "    age  gender   drink\n",
       "0    21       1    coke\n",
       "1    30       1  coffee\n",
       "2    35       0     tea\n",
       "3    55       0   water\n",
       "4    19       0  orange\n",
       "5    60       1     tea\n",
       "6    39       0   water\n",
       "7    25       1    coke\n",
       "8    44       1  coffee\n",
       "9    47       0   water\n",
       "10   33       0     tea\n",
       "11   65       1     tea"
      ]
     },
     "execution_count": 148,
     "metadata": {},
     "output_type": "execute_result"
    }
   ],
   "source": [
    "showdrink.head(15)"
   ]
  },
  {
   "cell_type": "code",
   "execution_count": 149,
   "id": "bbd12231",
   "metadata": {},
   "outputs": [
    {
     "data": {
      "text/plain": [
       "0       coke\n",
       "1     coffee\n",
       "2        tea\n",
       "3      water\n",
       "4     orange\n",
       "5        tea\n",
       "6      water\n",
       "7       coke\n",
       "8     coffee\n",
       "9      water\n",
       "10       tea\n",
       "11       tea\n",
       "Name: drink, dtype: object"
      ]
     },
     "execution_count": 149,
     "metadata": {},
     "output_type": "execute_result"
    }
   ],
   "source": [
    "feature_cols = ['age', 'gender']\n",
    "X = showdrink[feature_cols]\n",
    "y = showdrink.drink\n",
    "y"
   ]
  },
  {
   "cell_type": "code",
   "execution_count": 150,
   "id": "ddaceb5f",
   "metadata": {},
   "outputs": [
    {
     "data": {
      "text/plain": [
       "2      tea\n",
       "3    water\n",
       "Name: drink, dtype: object"
      ]
     },
     "execution_count": 150,
     "metadata": {},
     "output_type": "execute_result"
    }
   ],
   "source": [
    "X_train, X_test, y_train, y_test = train_test_split(X, y, test_size=0.1, random_state=1)\n",
    "y_test"
   ]
  },
  {
   "cell_type": "code",
   "execution_count": 162,
   "id": "fd6743ab",
   "metadata": {},
   "outputs": [
    {
     "data": {
      "text/plain": [
       "array(['tea', 'tea'], dtype=object)"
      ]
     },
     "execution_count": 162,
     "metadata": {},
     "output_type": "execute_result"
    }
   ],
   "source": [
    "model = DecisionTreeClassifier()\n",
    "model.fit(X_train.values, y_train)\n",
    "predictions = model.predict(X_test.values)\n",
    "predictions"
   ]
  },
  {
   "cell_type": "code",
   "execution_count": 163,
   "id": "f0d36fa0",
   "metadata": {},
   "outputs": [
    {
     "name": "stdout",
     "output_type": "stream",
     "text": [
      "Accuracy: 0.5\n"
     ]
    }
   ],
   "source": [
    "print(\"Accuracy:\", metrics.accuracy_score(y_test, y_pred))"
   ]
  },
  {
   "cell_type": "code",
   "execution_count": 164,
   "id": "68bf6a75",
   "metadata": {},
   "outputs": [
    {
     "data": {
      "text/plain": [
       "array(['coke'], dtype=object)"
      ]
     },
     "execution_count": 164,
     "metadata": {},
     "output_type": "execute_result"
    }
   ],
   "source": [
    "predictions = model.predict([[23,0]])\n",
    "predictions"
   ]
  },
  {
   "cell_type": "code",
   "execution_count": 165,
   "id": "448ce826",
   "metadata": {},
   "outputs": [
    {
     "data": {
      "text/plain": [
       "['drink-recommender.joblib']"
      ]
     },
     "execution_count": 165,
     "metadata": {},
     "output_type": "execute_result"
    }
   ],
   "source": [
    "import joblib\n",
    "joblib.dump(model, 'drink-recommender.joblib')"
   ]
  },
  {
   "cell_type": "code",
   "execution_count": null,
   "id": "5370bf1e",
   "metadata": {},
   "outputs": [],
   "source": []
  },
  {
   "cell_type": "code",
   "execution_count": null,
   "id": "06c22c68",
   "metadata": {},
   "outputs": [],
   "source": []
  }
 ],
 "metadata": {
  "kernelspec": {
   "display_name": "Python 3 (ipykernel)",
   "language": "python",
   "name": "python3"
  },
  "language_info": {
   "codemirror_mode": {
    "name": "ipython",
    "version": 3
   },
   "file_extension": ".py",
   "mimetype": "text/x-python",
   "name": "python",
   "nbconvert_exporter": "python",
   "pygments_lexer": "ipython3",
   "version": "3.11.5"
  }
 },
 "nbformat": 4,
 "nbformat_minor": 5
}
